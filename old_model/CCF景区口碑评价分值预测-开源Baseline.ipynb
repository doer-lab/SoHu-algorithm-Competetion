{
 "cells": [
  {
   "cell_type": "code",
   "execution_count": 1,
   "metadata": {
    "collapsed": true
   },
   "outputs": [],
   "source": [
    "import pandas as pd \n",
    "import numpy as np\n",
    "import matplotlib.pyplot as plt\n",
    "import seaborn as sns\n",
    "color = sns.color_palette()\n",
    "%matplotlib inline\n",
    "\n",
    "import jieba\n",
    "import re\n",
    "from sklearn.model_selection import StratifiedKFold,KFold\n",
    "import random\n",
    "\n",
    "import fasttext"
   ]
  },
  {
   "cell_type": "code",
   "execution_count": 2,
   "metadata": {
    "collapsed": true
   },
   "outputs": [],
   "source": [
    "data_path = './YNU.EDU2018-ScenicWord/train_first.csv'\n",
    "df = pd.read_csv(data_path,header = 0, encoding='utf8')\n",
    "\n",
    "test_data_path = './YNU.EDU2018-ScenicWord/predict_first.csv'\n",
    "test_df = pd.read_csv(test_data_path,header = 0, encoding='utf8')"
   ]
  },
  {
   "cell_type": "markdown",
   "metadata": {},
   "source": [
    "# 数据清洗"
   ]
  },
  {
   "cell_type": "code",
   "execution_count": 3,
   "metadata": {
    "collapsed": true
   },
   "outputs": [],
   "source": [
    "df.drop_duplicates(subset='Discuss', keep='first',inplace=True)"
   ]
  },
  {
   "cell_type": "code",
   "execution_count": 4,
   "metadata": {
    "collapsed": true
   },
   "outputs": [],
   "source": [
    "stop_word = []\n",
    "stop_words_path = 'stopWordList.txt'\n",
    "with open(stop_words_path,encoding='utf8') as f:\n",
    "    for line in f.readlines():\n",
    "        stop_word.append(line.strip())\n",
    "stop_word.append(' ')\n",
    "\n",
    "def clean_str(stri):\n",
    "    stri = re.sub(r'[a-zA-Z0-9]+','',stri)\n",
    "    cut_str = jieba.cut(stri.strip())\n",
    "    list_str = [word for word in cut_str if word not in stop_word]\n",
    "    stri = ' '.join(list_str)\n",
    "    return stri"
   ]
  },
  {
   "cell_type": "code",
   "execution_count": null,
   "metadata": {},
   "outputs": [],
   "source": [
    "stop_word = []\n",
    "stop_words_path = 'stopWordList.txt'\n",
    "with open(stop_words_path,encoding='utf8') as f:\n",
    "    for line in f.readlines():\n",
    "        stop_word.append(line.strip())\n",
    "stop_word.append(' ')"
   ]
  },
  {
   "cell_type": "code",
   "execution_count": 5,
   "metadata": {},
   "outputs": [
    {
     "name": "stderr",
     "output_type": "stream",
     "text": [
      "Building prefix dict from the default dictionary ...\n",
      "Loading model from cache /var/folders/s5/cxqfsb816f36h8gp706x5kjm0000gn/T/jieba.cache\n",
      "Loading model cost 1.200 seconds.\n",
      "Prefix dict has been built succesfully.\n"
     ]
    }
   ],
   "source": [
    "df['Discuss'] = df['Discuss'].map(lambda x : clean_str(x))\n",
    "test_df['Discuss'] = test_df['Discuss'].map(lambda x : clean_str(x))"
   ]
  },
  {
   "cell_type": "code",
   "execution_count": 6,
   "metadata": {
    "collapsed": true
   },
   "outputs": [],
   "source": [
    "def fillnull(x):\n",
    "    if x == '':\n",
    "        return '空白'\n",
    "    else:\n",
    "        return x"
   ]
  },
  {
   "cell_type": "code",
   "execution_count": 7,
   "metadata": {
    "collapsed": true
   },
   "outputs": [],
   "source": [
    "df['Discuss'] = df['Discuss'].map(lambda x: fillnull(x))\n",
    "test_df['Discuss'] = test_df['Discuss'].map(lambda x: fillnull(x))"
   ]
  },
  {
   "cell_type": "markdown",
   "metadata": {},
   "source": [
    "# 下采样，数据增强"
   ]
  },
  {
   "cell_type": "code",
   "execution_count": 22,
   "metadata": {
    "collapsed": true
   },
   "outputs": [],
   "source": [
    "# df_1 = df.loc[df['Score']==1, :]\n",
    "# df_2 = df.loc[df['Score']==2, :]\n",
    "\n",
    "# df = pd.concat([df,df_1,df_2],ignore_index=True)"
   ]
  },
  {
   "cell_type": "code",
   "execution_count": 8,
   "metadata": {
    "collapsed": true
   },
   "outputs": [],
   "source": [
    "score_5_idx = df[df['Score']==5].index.tolist()\n",
    "score_4_idx = df[df['Score']==4].index.tolist()\n",
    "score_3_idx = df[df['Score']==3].index.tolist()\n",
    "score_2_idx = df[df['Score']==2].index.tolist()\n",
    "score_1_idx = df[df['Score']==1].index.tolist()"
   ]
  },
  {
   "cell_type": "code",
   "execution_count": 9,
   "metadata": {
    "collapsed": true
   },
   "outputs": [],
   "source": [
    "def spilt_sample(sample,n=4):\n",
    "    num_sample = len(sample)\n",
    "    sub_lenth = int(1/n * num_sample)\n",
    "    sub_sample = []\n",
    "    for i in range(n):\n",
    "        sub = sample[i*sub_lenth:(i+1)*sub_lenth]\n",
    "        sub_sample.append(sub)\n",
    "    return sub_sample"
   ]
  },
  {
   "cell_type": "code",
   "execution_count": 10,
   "metadata": {
    "collapsed": true
   },
   "outputs": [],
   "source": [
    "score_5_sample = spilt_sample(score_5_idx)\n",
    "score_4_sample = spilt_sample(score_4_idx)\n",
    "score_3_sample = spilt_sample(score_3_idx)\n",
    "\n",
    "df1_idx = [score_5_sample[0],score_4_sample[0],score_3_sample[0],score_2_idx,score_1_idx]\n",
    "df1_idx = [idx for i_sample in df1_idx for idx in i_sample]\n",
    "random.shuffle(df1_idx)\n",
    "\n",
    "df2_idx = [score_5_sample[1],score_4_sample[1],score_3_sample[1],score_2_idx,score_1_idx]\n",
    "df2_idx = [idx for i_sample in df2_idx for idx in i_sample]\n",
    "random.shuffle(df2_idx)\n",
    "\n",
    "df3_idx = [score_5_sample[2],score_4_sample[2],score_3_sample[2],score_2_idx,score_1_idx]\n",
    "df3_idx = [idx for i_sample in df3_idx for idx in i_sample]\n",
    "random.shuffle(df3_idx)\n",
    "\n",
    "df4_idx = [score_5_sample[3],score_4_sample[3],score_3_sample[3],score_2_idx,score_1_idx]\n",
    "df4_idx = [idx for i_sample in df4_idx for idx in i_sample]\n",
    "random.shuffle(df4_idx)"
   ]
  },
  {
   "cell_type": "code",
   "execution_count": 11,
   "metadata": {
    "collapsed": true
   },
   "outputs": [],
   "source": [
    "df1 = df.loc[df1_idx,:]\n",
    "df1 = df1.sample(frac = 1)\n",
    "df2 = df.loc[df2_idx,:]\n",
    "df2 = df2.sample(frac = 1)\n",
    "df3 = df.loc[df3_idx,:]\n",
    "df3 = df3.sample(frac = 1)\n",
    "df4 = df.loc[df4_idx,:]\n",
    "df4 = df4.sample(frac = 1)"
   ]
  },
  {
   "cell_type": "markdown",
   "metadata": {},
   "source": [
    "# 辅助函数，评测函数"
   ]
  },
  {
   "cell_type": "code",
   "execution_count": 12,
   "metadata": {
    "collapsed": true
   },
   "outputs": [],
   "source": [
    "def fasttext_data(data,label):\n",
    "    fasttext_data = []\n",
    "    for i in range(len(label)):\n",
    "        sent = data[i]+\"\\t__label__\"+str(int(label[i]))\n",
    "        fasttext_data.append(sent)\n",
    "    with open('train.txt','w') as f:\n",
    "        for data in fasttext_data:\n",
    "            f.write(data)\n",
    "            f.write('\\n')\n",
    "    return 'train.txt'\n",
    "\n",
    "def get_predict(pred):\n",
    "    score = np.array([1,2,3,4,5])\n",
    "    pred2 = []\n",
    "    for p in pred:\n",
    "        pr = np.sum(p * score)\n",
    "        pred2.append(pr)\n",
    "    return np.array(pred2)\n",
    "\n",
    "def rmsel(true_label,pred):\n",
    "    true_label = np.array(true_label)\n",
    "    pred = np.array(pred)  \n",
    "    n = len(true_label)\n",
    "    a = true_label - pred\n",
    "    rmse = np.sqrt(np.sum(a * a)/n)\n",
    "    b = 1/(1+rmse)\n",
    "    return b"
   ]
  },
  {
   "cell_type": "markdown",
   "metadata": {},
   "source": [
    "# 交叉验证，预测"
   ]
  },
  {
   "cell_type": "code",
   "execution_count": 13,
   "metadata": {
    "collapsed": true
   },
   "outputs": [],
   "source": [
    "def fast_cv(df):\n",
    "    df = df.reset_index(drop=True)\n",
    "    X = df['Discuss'].values\n",
    "    y = df['Score'].values\n",
    "    fast_pred = []\n",
    "    folds = list(KFold(n_splits=5, shuffle=True, random_state=2017).split(X, y))\n",
    "    for train_index, test_index in folds:\n",
    "        X_train, X_test = X[train_index], X[test_index]\n",
    "        y_train, y_test = y[train_index], y[test_index]\n",
    "        train_file = fasttext_data(X_train,y_train)\n",
    "        \n",
    "        classifier = fasttext.supervised(train_file,'model.model',lr=0.01,dim=128,label_prefix=\"__label__\")\n",
    "        result = classifier.predict_proba(df.loc[test_index,'Discuss'].tolist(),k=5)\n",
    "        \n",
    "        pred = [[int(sco) * proba for sco,proba in result_i] for result_i in result]\n",
    "        pred = [sum(pred_i) for pred_i in pred]\n",
    "        print(rmsel(y_test,pred))\n",
    "        \n",
    "        test_result = classifier.predict_proba(test_df['Discuss'].tolist(),k=5)\n",
    "        fast_predi = [[int(sco) * proba for sco,proba in result_i] for result_i in test_result]\n",
    "        fast_predi = [sum(pred_i) for pred_i in fast_predi]\n",
    "        fast_pred.append(fast_predi)\n",
    "    \n",
    "    fast_pred = np.array(fast_pred)\n",
    "    fast_pred = np.mean(fast_pred, axis=0)\n",
    "    return fast_pred"
   ]
  },
  {
   "cell_type": "code",
   "execution_count": 14,
   "metadata": {},
   "outputs": [
    {
     "name": "stdout",
     "output_type": "stream",
     "text": [
      "0.5159818233439385\n",
      "0.5107258832584286\n",
      "0.5154059219529723\n",
      "0.5126544899661535\n",
      "0.5117747128599764\n"
     ]
    }
   ],
   "source": [
    "test_pred1 = fast_cv(df1)"
   ]
  },
  {
   "cell_type": "code",
   "execution_count": 15,
   "metadata": {},
   "outputs": [
    {
     "name": "stdout",
     "output_type": "stream",
     "text": [
      "0.5130471396054775\n",
      "0.5164329659090641\n",
      "0.5088290295262752\n",
      "0.5090103346795625\n",
      "0.5118612888354229\n"
     ]
    }
   ],
   "source": [
    "test_pred2 = fast_cv(df2)"
   ]
  },
  {
   "cell_type": "code",
   "execution_count": 16,
   "metadata": {},
   "outputs": [
    {
     "name": "stdout",
     "output_type": "stream",
     "text": [
      "0.5134732474077905\n",
      "0.516805905973566\n",
      "0.5145942325833824\n",
      "0.5085949394977739\n",
      "0.5100220581413013\n"
     ]
    }
   ],
   "source": [
    "test_pred3 = fast_cv(df3)"
   ]
  },
  {
   "cell_type": "code",
   "execution_count": 17,
   "metadata": {},
   "outputs": [
    {
     "name": "stdout",
     "output_type": "stream",
     "text": [
      "0.5109065178925176\n",
      "0.5086759353224652\n",
      "0.5171876267346569\n",
      "0.5026640705846672\n",
      "0.5187304797353075\n"
     ]
    }
   ],
   "source": [
    "test_pred4 = fast_cv(df4)"
   ]
  },
  {
   "cell_type": "markdown",
   "metadata": {},
   "source": [
    "# 提交"
   ]
  },
  {
   "cell_type": "code",
   "execution_count": 18,
   "metadata": {
    "collapsed": true
   },
   "outputs": [],
   "source": [
    "data = np.zeros((len(test_df),5))\n",
    "sub_df = pd.DataFrame(data)\n",
    "sub_df.columns = ['Id','fast1','fast2','fast3','fast4']\n",
    "sub_df['Id'] = test_df['Id'].values\n",
    "sub_df['fast1'] = test_pred1\n",
    "sub_df['fast2'] = test_pred2\n",
    "sub_df['fast3'] = test_pred3\n",
    "sub_df['fast4'] = test_pred4"
   ]
  },
  {
   "cell_type": "code",
   "execution_count": 19,
   "metadata": {
    "collapsed": true
   },
   "outputs": [],
   "source": [
    "sub_df['mean'] = sub_df.mean(axis=1)"
   ]
  },
  {
   "cell_type": "code",
   "execution_count": 20,
   "metadata": {},
   "outputs": [
    {
     "name": "stdout",
     "output_type": "stream",
     "text": [
      "0.5790714226277386\n",
      "0.5781726996518566\n",
      "0.5767399630845129\n",
      "0.582091618025645\n",
      "0.5804736020315329\n"
     ]
    }
   ],
   "source": [
    "test_pred = fast_cv(df)\n",
    "sub_df['mean2'] = test_pred"
   ]
  },
  {
   "cell_type": "code",
   "execution_count": 21,
   "metadata": {},
   "outputs": [
    {
     "data": {
      "text/html": [
       "<div>\n",
       "<style>\n",
       "    .dataframe thead tr:only-child th {\n",
       "        text-align: right;\n",
       "    }\n",
       "\n",
       "    .dataframe thead th {\n",
       "        text-align: left;\n",
       "    }\n",
       "\n",
       "    .dataframe tbody tr th {\n",
       "        vertical-align: top;\n",
       "    }\n",
       "</style>\n",
       "<table border=\"1\" class=\"dataframe\">\n",
       "  <thead>\n",
       "    <tr style=\"text-align: right;\">\n",
       "      <th></th>\n",
       "      <th>fast1</th>\n",
       "      <th>fast2</th>\n",
       "      <th>fast3</th>\n",
       "      <th>fast4</th>\n",
       "      <th>mean</th>\n",
       "      <th>mean2</th>\n",
       "    </tr>\n",
       "  </thead>\n",
       "  <tbody>\n",
       "    <tr>\n",
       "      <th>count</th>\n",
       "      <td>30000.000000</td>\n",
       "      <td>30000.000000</td>\n",
       "      <td>30000.000000</td>\n",
       "      <td>30000.000000</td>\n",
       "      <td>30000.000000</td>\n",
       "      <td>30000.000000</td>\n",
       "    </tr>\n",
       "    <tr>\n",
       "      <th>mean</th>\n",
       "      <td>4.266991</td>\n",
       "      <td>4.269612</td>\n",
       "      <td>4.276665</td>\n",
       "      <td>4.277559</td>\n",
       "      <td>4.272707</td>\n",
       "      <td>4.401865</td>\n",
       "    </tr>\n",
       "    <tr>\n",
       "      <th>std</th>\n",
       "      <td>0.331754</td>\n",
       "      <td>0.327128</td>\n",
       "      <td>0.329702</td>\n",
       "      <td>0.328225</td>\n",
       "      <td>0.328536</td>\n",
       "      <td>0.300022</td>\n",
       "    </tr>\n",
       "    <tr>\n",
       "      <th>min</th>\n",
       "      <td>2.058204</td>\n",
       "      <td>2.144532</td>\n",
       "      <td>2.064844</td>\n",
       "      <td>2.206251</td>\n",
       "      <td>2.118458</td>\n",
       "      <td>1.385547</td>\n",
       "    </tr>\n",
       "    <tr>\n",
       "      <th>25%</th>\n",
       "      <td>4.037110</td>\n",
       "      <td>4.046097</td>\n",
       "      <td>4.051563</td>\n",
       "      <td>4.051563</td>\n",
       "      <td>4.046754</td>\n",
       "      <td>4.240236</td>\n",
       "    </tr>\n",
       "    <tr>\n",
       "      <th>50%</th>\n",
       "      <td>4.289064</td>\n",
       "      <td>4.290822</td>\n",
       "      <td>4.298633</td>\n",
       "      <td>4.299610</td>\n",
       "      <td>4.294141</td>\n",
       "      <td>4.416798</td>\n",
       "    </tr>\n",
       "    <tr>\n",
       "      <th>75%</th>\n",
       "      <td>4.524999</td>\n",
       "      <td>4.520704</td>\n",
       "      <td>4.528126</td>\n",
       "      <td>4.532032</td>\n",
       "      <td>4.523755</td>\n",
       "      <td>4.606641</td>\n",
       "    </tr>\n",
       "    <tr>\n",
       "      <th>max</th>\n",
       "      <td>4.932812</td>\n",
       "      <td>4.910547</td>\n",
       "      <td>4.930859</td>\n",
       "      <td>4.917188</td>\n",
       "      <td>4.913867</td>\n",
       "      <td>4.989454</td>\n",
       "    </tr>\n",
       "  </tbody>\n",
       "</table>\n",
       "</div>"
      ],
      "text/plain": [
       "              fast1         fast2         fast3         fast4          mean  \\\n",
       "count  30000.000000  30000.000000  30000.000000  30000.000000  30000.000000   \n",
       "mean       4.266991      4.269612      4.276665      4.277559      4.272707   \n",
       "std        0.331754      0.327128      0.329702      0.328225      0.328536   \n",
       "min        2.058204      2.144532      2.064844      2.206251      2.118458   \n",
       "25%        4.037110      4.046097      4.051563      4.051563      4.046754   \n",
       "50%        4.289064      4.290822      4.298633      4.299610      4.294141   \n",
       "75%        4.524999      4.520704      4.528126      4.532032      4.523755   \n",
       "max        4.932812      4.910547      4.930859      4.917188      4.913867   \n",
       "\n",
       "              mean2  \n",
       "count  30000.000000  \n",
       "mean       4.401865  \n",
       "std        0.300022  \n",
       "min        1.385547  \n",
       "25%        4.240236  \n",
       "50%        4.416798  \n",
       "75%        4.606641  \n",
       "max        4.989454  "
      ]
     },
     "execution_count": 21,
     "metadata": {},
     "output_type": "execute_result"
    }
   ],
   "source": [
    "sub_df.describe()"
   ]
  },
  {
   "cell_type": "code",
   "execution_count": 22,
   "metadata": {
    "collapsed": true
   },
   "outputs": [],
   "source": [
    "pred = sub_df['mean2'].values\n",
    "pred = np.where(pred>4.7,5,pred)\n",
    "sub_df['mean2'] = pred"
   ]
  },
  {
   "cell_type": "code",
   "execution_count": 23,
   "metadata": {
    "collapsed": true
   },
   "outputs": [],
   "source": [
    "sub_df[['Id','mean2']].to_csv('fastsub2.csv',header=None,index=False)"
   ]
  },
  {
   "cell_type": "code",
   "execution_count": null,
   "metadata": {
    "collapsed": true
   },
   "outputs": [],
   "source": []
  }
 ],
 "metadata": {
  "kernelspec": {
   "display_name": "Python 3",
   "language": "python",
   "name": "python3"
  },
  "language_info": {
   "codemirror_mode": {
    "name": "ipython",
    "version": 3
   },
   "file_extension": ".py",
   "mimetype": "text/x-python",
   "name": "python",
   "nbconvert_exporter": "python",
   "pygments_lexer": "ipython3",
   "version": "3.6.5"
  }
 },
 "nbformat": 4,
 "nbformat_minor": 2
}
