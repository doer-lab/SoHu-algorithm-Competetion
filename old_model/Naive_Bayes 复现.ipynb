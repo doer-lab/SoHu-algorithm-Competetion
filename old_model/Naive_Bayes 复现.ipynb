{
 "cells": [
  {
   "cell_type": "markdown",
   "metadata": {},
   "source": [
    "# 读取数据"
   ]
  },
  {
   "cell_type": "code",
   "execution_count": 1,
   "metadata": {},
   "outputs": [],
   "source": [
    "from instrument import read_bunch\n",
    "from sklearn.datasets.base import Bunch\n",
    "from sklearn.feature_extraction.text import TfidfVectorizer\n",
    "\n",
    "# 1. load data from local\n",
    "train_bunch_path = './data_bunch/train_bunch.dat'\n",
    "validate_bunch_path = './data_bunch/validate_bunch.dat'\n",
    "train_bunch = read_bunch(train_bunch_path)\n",
    "validate_bunch = read_bunch(validate_bunch_path)"
   ]
  },
  {
   "cell_type": "markdown",
   "metadata": {},
   "source": [
    "# 读取停用词"
   ]
  },
  {
   "cell_type": "code",
   "execution_count": 2,
   "metadata": {},
   "outputs": [],
   "source": [
    "# 2. stop words list\n",
    "stop_words_path = './NLP/stop_words/stopword.txt'\n",
    "with open(stop_words_path, 'r', encoding='utf-8') as sowd:\n",
    "    StopWords = [line.strip() for line in sowd.readlines()]\n",
    "stop_words = list(set(StopWords))\n",
    "stop_words_list = None"
   ]
  },
  {
   "cell_type": "markdown",
   "metadata": {},
   "source": [
    "# 创建 IF-IDF 词向量空间"
   ]
  },
  {
   "cell_type": "code",
   "execution_count": 3,
   "metadata": {},
   "outputs": [],
   "source": [
    "max_df = 0.8\n",
    "\n",
    "# 3.create TF-IDF words vector space with train data\n",
    "tfidf_train = Bunch(Id=train_bunch.news_id, Label=train_bunch.news_pic_label, tdm=[], vocabulary={})\n",
    "train_vectorizer = TfidfVectorizer(stop_words=stop_words_list, sublinear_tf=True, max_df=max_df)\n",
    "tfidf_train.tdm = train_vectorizer.fit_transform(train_bunch.news_words_jieba)   # jieba 分词结果或\n",
    "tfidf_train.vocabulary = train_vectorizer.vocabulary_\n",
    "\n",
    "# 4.create TF-IDF words vector space with validate data\n",
    "tfidf_validate = Bunch(Id=validate_bunch.news_id, tdm=[], vocabulary={})\n",
    "tfidf_validate.vocabulary = tfidf_train.vocabulary\n",
    "validate_vectorizer = TfidfVectorizer(stop_words=stop_words_list, sublinear_tf=True, max_df=max_df,\n",
    "                                      vocabulary=tfidf_train.vocabulary)\n",
    "tfidf_validate.tdm = validate_vectorizer.fit_transform(validate_bunch.news_words_jieba)        # jieba 分词结果"
   ]
  },
  {
   "cell_type": "markdown",
   "metadata": {},
   "source": [
    "# 基于训练集训练模型"
   ]
  },
  {
   "cell_type": "code",
   "execution_count": 4,
   "metadata": {},
   "outputs": [
    {
     "name": "stdout",
     "output_type": "stream",
     "text": [
      "The accuracy of Naive Bayes model on trainset is : 0.6617161716171617\n",
      "             precision    recall  f1-score   support\n",
      "\n",
      "          0       0.68      0.79      0.73      7192\n",
      "          1       0.40      0.03      0.05      2357\n",
      "          2       0.65      0.78      0.71      4995\n",
      "\n",
      "avg / total       0.62      0.66      0.61     14544\n",
      "\n"
     ]
    }
   ],
   "source": [
    "# Naive Bayes Classifier\n",
    "from sklearn.model_selection import train_test_split\n",
    "from sklearn.naive_bayes import MultinomialNB\n",
    "\n",
    "classifier_naive_bayes = MultinomialNB(alpha=0.1453)\n",
    "\n",
    "## 1. cross validation\n",
    "x_train, x_test, y_train, y_test = train_test_split(tfidf_train.tdm,\n",
    "                                                    tfidf_train.Label,\n",
    "                                                    test_size=0.3,\n",
    "                                                    random_state=33)\n",
    "\n",
    "## 2. train model\n",
    "classifier_naive_bayes.fit(x_train, y_train)\n",
    "y_predict = classifier_naive_bayes.predict(x_test)\n",
    "\n",
    "## 3. compute accuracy on test data\n",
    "from sklearn.metrics import classification_report\n",
    "print('The accuracy of Naive Bayes model on trainset is :',\n",
    "      classifier_naive_bayes.score(x_test, y_test))\n",
    "print(classification_report(y_test, y_predict))"
   ]
  },
  {
   "cell_type": "markdown",
   "metadata": {},
   "source": [
    "# 对验证集进行预测"
   ]
  },
  {
   "cell_type": "code",
   "execution_count": 28,
   "metadata": {},
   "outputs": [
    {
     "ename": "ValueError",
     "evalue": "Found input variables with inconsistent numbers of samples: [33936, 48480]",
     "output_type": "error",
     "traceback": [
      "\u001b[1;31m---------------------------------------------------------------------------\u001b[0m",
      "\u001b[1;31mValueError\u001b[0m                                Traceback (most recent call last)",
      "\u001b[1;32m<ipython-input-28-83cd7ec00294>\u001b[0m in \u001b[0;36m<module>\u001b[1;34m()\u001b[0m\n\u001b[0;32m      2\u001b[0m \u001b[1;32mfrom\u001b[0m \u001b[0msklearn\u001b[0m\u001b[1;33m.\u001b[0m\u001b[0mnaive_bayes\u001b[0m \u001b[1;32mimport\u001b[0m \u001b[0mMultinomialNB\u001b[0m\u001b[1;33m\u001b[0m\u001b[0m\n\u001b[0;32m      3\u001b[0m \u001b[0mclassifier_naive_bayes\u001b[0m \u001b[1;33m=\u001b[0m \u001b[0mMultinomialNB\u001b[0m\u001b[1;33m(\u001b[0m\u001b[0malpha\u001b[0m\u001b[1;33m=\u001b[0m\u001b[1;36m0.14\u001b[0m\u001b[1;33m)\u001b[0m\u001b[1;33m\u001b[0m\u001b[0m\n\u001b[1;32m----> 4\u001b[1;33m \u001b[0mclassifier_naive_bayes\u001b[0m\u001b[1;33m.\u001b[0m\u001b[0mfit\u001b[0m\u001b[1;33m(\u001b[0m\u001b[0mx_train\u001b[0m\u001b[1;33m,\u001b[0m \u001b[0mtfidf_train\u001b[0m\u001b[1;33m.\u001b[0m\u001b[0mLabel\u001b[0m\u001b[1;33m)\u001b[0m\u001b[1;33m\u001b[0m\u001b[0m\n\u001b[0m\u001b[0;32m      5\u001b[0m \u001b[0mlabel_predict\u001b[0m \u001b[1;33m=\u001b[0m \u001b[0mclassifier_naive_bayes\u001b[0m\u001b[1;33m.\u001b[0m\u001b[0mpredict\u001b[0m\u001b[1;33m(\u001b[0m\u001b[0mx_validate\u001b[0m\u001b[1;33m)\u001b[0m\u001b[1;33m\u001b[0m\u001b[0m\n\u001b[0;32m      6\u001b[0m \u001b[1;33m\u001b[0m\u001b[0m\n",
      "\u001b[1;32me:\\software\\python\\python36\\lib\\site-packages\\sklearn\\naive_bayes.py\u001b[0m in \u001b[0;36mfit\u001b[1;34m(self, X, y, sample_weight)\u001b[0m\n\u001b[0;32m    577\u001b[0m             \u001b[0mReturns\u001b[0m \u001b[0mself\u001b[0m\u001b[1;33m.\u001b[0m\u001b[1;33m\u001b[0m\u001b[0m\n\u001b[0;32m    578\u001b[0m         \"\"\"\n\u001b[1;32m--> 579\u001b[1;33m         \u001b[0mX\u001b[0m\u001b[1;33m,\u001b[0m \u001b[0my\u001b[0m \u001b[1;33m=\u001b[0m \u001b[0mcheck_X_y\u001b[0m\u001b[1;33m(\u001b[0m\u001b[0mX\u001b[0m\u001b[1;33m,\u001b[0m \u001b[0my\u001b[0m\u001b[1;33m,\u001b[0m \u001b[1;34m'csr'\u001b[0m\u001b[1;33m)\u001b[0m\u001b[1;33m\u001b[0m\u001b[0m\n\u001b[0m\u001b[0;32m    580\u001b[0m         \u001b[0m_\u001b[0m\u001b[1;33m,\u001b[0m \u001b[0mn_features\u001b[0m \u001b[1;33m=\u001b[0m \u001b[0mX\u001b[0m\u001b[1;33m.\u001b[0m\u001b[0mshape\u001b[0m\u001b[1;33m\u001b[0m\u001b[0m\n\u001b[0;32m    581\u001b[0m \u001b[1;33m\u001b[0m\u001b[0m\n",
      "\u001b[1;32me:\\software\\python\\python36\\lib\\site-packages\\sklearn\\utils\\validation.py\u001b[0m in \u001b[0;36mcheck_X_y\u001b[1;34m(X, y, accept_sparse, dtype, order, copy, force_all_finite, ensure_2d, allow_nd, multi_output, ensure_min_samples, ensure_min_features, y_numeric, warn_on_dtype, estimator)\u001b[0m\n\u001b[0;32m    581\u001b[0m         \u001b[0my\u001b[0m \u001b[1;33m=\u001b[0m \u001b[0my\u001b[0m\u001b[1;33m.\u001b[0m\u001b[0mastype\u001b[0m\u001b[1;33m(\u001b[0m\u001b[0mnp\u001b[0m\u001b[1;33m.\u001b[0m\u001b[0mfloat64\u001b[0m\u001b[1;33m)\u001b[0m\u001b[1;33m\u001b[0m\u001b[0m\n\u001b[0;32m    582\u001b[0m \u001b[1;33m\u001b[0m\u001b[0m\n\u001b[1;32m--> 583\u001b[1;33m     \u001b[0mcheck_consistent_length\u001b[0m\u001b[1;33m(\u001b[0m\u001b[0mX\u001b[0m\u001b[1;33m,\u001b[0m \u001b[0my\u001b[0m\u001b[1;33m)\u001b[0m\u001b[1;33m\u001b[0m\u001b[0m\n\u001b[0m\u001b[0;32m    584\u001b[0m \u001b[1;33m\u001b[0m\u001b[0m\n\u001b[0;32m    585\u001b[0m     \u001b[1;32mreturn\u001b[0m \u001b[0mX\u001b[0m\u001b[1;33m,\u001b[0m \u001b[0my\u001b[0m\u001b[1;33m\u001b[0m\u001b[0m\n",
      "\u001b[1;32me:\\software\\python\\python36\\lib\\site-packages\\sklearn\\utils\\validation.py\u001b[0m in \u001b[0;36mcheck_consistent_length\u001b[1;34m(*arrays)\u001b[0m\n\u001b[0;32m    202\u001b[0m     \u001b[1;32mif\u001b[0m \u001b[0mlen\u001b[0m\u001b[1;33m(\u001b[0m\u001b[0muniques\u001b[0m\u001b[1;33m)\u001b[0m \u001b[1;33m>\u001b[0m \u001b[1;36m1\u001b[0m\u001b[1;33m:\u001b[0m\u001b[1;33m\u001b[0m\u001b[0m\n\u001b[0;32m    203\u001b[0m         raise ValueError(\"Found input variables with inconsistent numbers of\"\n\u001b[1;32m--> 204\u001b[1;33m                          \" samples: %r\" % [int(l) for l in lengths])\n\u001b[0m\u001b[0;32m    205\u001b[0m \u001b[1;33m\u001b[0m\u001b[0m\n\u001b[0;32m    206\u001b[0m \u001b[1;33m\u001b[0m\u001b[0m\n",
      "\u001b[1;31mValueError\u001b[0m: Found input variables with inconsistent numbers of samples: [33936, 48480]"
     ]
    }
   ],
   "source": [
    "# predict the label with validate data\n",
    "from sklearn.naive_bayes import MultinomialNB\n",
    "classifier_naive_bayes = MultinomialNB(alpha=0.1453)\n",
    "\n",
    "classifier_naive_bayes.fit(tfidf_train.tdm, tfidf_train.Label)\n",
    "label_predict = classifier_naive_bayes.predict(tfidf_validate.tdm)\n",
    "\n",
    "# 7. store the result of predict to local, and ust it to submittion\n",
    "bayes_text = []\n",
    "for i in range(len(validate_bunch.news_id)):\n",
    "    bayes_text.append('NULL')\n",
    "\n",
    "bayes_result = []\n",
    "for i in range(len(validate_bunch.news_id)):\n",
    "    bayes_result.append(validate_bunch.news_id[i]+'\\t'+label_predict[i]+'\\t'+bayes_text[i]+'\\t'+bayes_text[i])"
   ]
  },
  {
   "cell_type": "markdown",
   "metadata": {},
   "source": [
    "# 将预测结果保存为本地的tx文件用以提交"
   ]
  },
  {
   "cell_type": "code",
   "execution_count": null,
   "metadata": {},
   "outputs": [],
   "source": [
    "from instrument import save_text\n",
    "\n",
    "save_path = './result_feature.txt'\n",
    "save_text(save_path, bayes_result)"
   ]
  },
  {
   "cell_type": "markdown",
   "metadata": {},
   "source": [
    "# 测试特征选择的结果"
   ]
  },
  {
   "cell_type": "code",
   "execution_count": 2,
   "metadata": {},
   "outputs": [
    {
     "name": "stdout",
     "output_type": "stream",
     "text": [
      "[0.68744091 0.69819607 0.70491438 0.70839152 0.71107315 0.71213411\n",
      " 0.71316562 0.71534626 0.71643666 0.71690807 0.71802785 0.71846985\n",
      " 0.71858773 0.71902966 0.71905906 0.71935376 0.7189707  0.71961895\n",
      " 0.71920635 0.71858744 0.71820439 0.71823381 0.7181454  0.71770342\n",
      " 0.71717297 0.71729089 0.71667205 0.71620063 0.71614171 0.71558185\n",
      " 0.71508097 0.71434439 0.7134309  0.71266471 0.71219322 0.71172173\n",
      " 0.71119132 0.7104252  0.70962957 0.70951169 0.70927594 0.70789093\n",
      " 0.70733099 0.70650584 0.70541553 0.7050914  0.70461993 0.7045021\n",
      " 0.70382429 0.7031466  0.70238044 0.70208582 0.70126073 0.70075983\n",
      " 0.69981687 0.69937486 0.69857925 0.69754798 0.69728281 0.69633987\n",
      " 0.69569162 0.69498435 0.69442449 0.69362892 0.69268604 0.69189041\n",
      " 0.69112422 0.69065281 0.68965085 0.68897317 0.68826594 0.68761762\n",
      " 0.68688097 0.68602637 0.6849655  0.68378689 0.68281453 0.68210731\n",
      " 0.68089917 0.68039825 0.67833548 0.67762825 0.67733364 0.67730419\n",
      " 0.67745152 0.67762825 0.67762825 0.67762825 0.67762831 0.67748098\n",
      " 0.67762825 0.67762825 0.67762825 0.67807022 0.67789342 0.67792286\n",
      " 0.67762825 0.67762825 0.67818812]\n",
      "Optimal number of features 18\n"
     ]
    },
    {
     "data": {
      "image/png": "[encoded data removed]",
      "text/plain": [
       "<Figure size 432x288 with 1 Axes>"
      ]
     },
     "metadata": {},
     "output_type": "display_data"
    }
   ],
   "source": [
    "stop_words_list = None\n",
    "max_df = 0.8\n",
    "\n",
    "# create TF-IDF words vector space with train data\n",
    "tfidf_train = Bunch(Id=train_bunch.news_id, Label=train_bunch.news_pic_label, tdm=[], vocabulary={})\n",
    "train_vectorizer = TfidfVectorizer(stop_words=stop_words_list, sublinear_tf=True, max_df=max_df)\n",
    "tfidf_train.tdm = train_vectorizer.fit_transform(train_bunch.news_words_jieba)   # jieba 分词结果或\n",
    "tfidf_train.vocabulary = train_vectorizer.vocabulary_\n",
    "\n",
    "# create TF-IDF words vector space with validate data\n",
    "tfidf_validate = Bunch(Id=validate_bunch.news_id, tdm=[], vocabulary={})\n",
    "tfidf_validate.vocabulary = tfidf_train.vocabulary\n",
    "validate_vectorizer = TfidfVectorizer(stop_words=stop_words_list, sublinear_tf=True, max_df=max_df,\n",
    "                                      vocabulary=tfidf_train.vocabulary)\n",
    "tfidf_validate.tdm = validate_vectorizer.fit_transform(validate_bunch.news_words_jieba)        # jieba 分词结果\n",
    "\n",
    "# Naive Bayes Classifier\n",
    "from sklearn.model_selection import train_test_split\n",
    "from sklearn.naive_bayes import MultinomialNB\n",
    "\n",
    "model_naive_bayes = MultinomialNB(alpha=0.1453)\n",
    "\n",
    "## cross validation\n",
    "x_train, x_test, y_train, y_test = train_test_split(tfidf_train.tdm,\n",
    "                                                    tfidf_train.Label,\n",
    "                                                    test_size=0.3,\n",
    "                                                    random_state=33)\n",
    "\n",
    "\n",
    "## feature percentage\n",
    "from sklearn.model_selection import cross_val_score\n",
    "from sklearn import feature_selection\n",
    "import numpy as np\n",
    "\n",
    "percentiles = range(1, 100, 1)\n",
    "results = []\n",
    "for i in percentiles:\n",
    "    fs = feature_selection.SelectPercentile(feature_selection.chi2, percentile=i)\n",
    "    x_train_fs = fs.fit_transform(x_train, y_train)\n",
    "    scores = cross_val_score(model_naive_bayes, x_train_fs, y_train, cv=5)\n",
    "    results = np.append(results, scores.mean())\n",
    "print(results)\n",
    "\n",
    "# 找到实现最佳性能的特征筛选百分比\n",
    "opt = np.where(results == results.max())[0]\n",
    "print('Optimal number of features %d' % percentiles[opt[0]])\n",
    "\n",
    "import matplotlib\n",
    "%matplotlib inline\n",
    "import pylab as pl\n",
    "pl.plot(percentiles, results)\n",
    "pl.xlabel('percentage of features')\n",
    "pl.ylabel('accuracy')\n",
    "pl.show()"
   ]
  }
 ],
 "metadata": {
  "kernelspec": {
   "display_name": "Python 3",
   "language": "python",
   "name": "python3"
  },
  "language_info": {
   "codemirror_mode": {
    "name": "ipython",
    "version": 3
   },
   "file_extension": ".py",
   "mimetype": "text/x-python",
   "name": "python",
   "nbconvert_exporter": "python",
   "pygments_lexer": "ipython3",
   "version": "3.6.5"
  }
 },
 "nbformat": 4,
 "nbformat_minor": 2
}
